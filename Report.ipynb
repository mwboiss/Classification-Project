{
 "cells": [
  {
   "cell_type": "markdown",
   "id": "c3e2030c-06f1-461f-82fd-9615553ba4dd",
   "metadata": {},
   "source": [
    "# Exploring Drivers of Telco Churn"
   ]
  },
  {
   "cell_type": "markdown",
   "id": "46daa29e-3f41-45b6-82b2-1a28c8cdbf4d",
   "metadata": {},
   "source": [
    "by Mathias Boissevain 2022-03-14"
   ]
  },
  {
   "cell_type": "markdown",
   "id": "b1c799cd-dac5-4d55-a825-1050412d51f6",
   "metadata": {},
   "source": [
    "### Project Goal\n",
    "\n",
    "\n",
    "The goal of this project is to identify which customers may churn, the key drivers of that churn, and possible areas of focus for Telco to increase it's customer retention. "
   ]
  },
  {
   "cell_type": "markdown",
   "id": "9bf91374-1c30-4038-87af-0fd2385a1077",
   "metadata": {},
   "source": [
    "### Project Description\n",
    "\n",
    "In the competitive market of telecommunications retaining customers is paramount. The loss of customers can account for billions in revenue. Understanding why customers churn (terminate their contract) can help Telco get ahead of the situation and reach out to customers who have a high potential to churn. Understanding the drivers of churn can help Telco understand the areas in which they can make the biggest impact in persuading these customers to continue their contracts. In this project I will analyse some potential drivers of churn and create models to predict which customers did churn."
   ]
  },
  {
   "cell_type": "markdown",
   "id": "4b7ab941-777b-4422-a658-21f402aec61f",
   "metadata": {},
   "source": [
    "### Initial Question\n",
    "\n",
    "1) Do those who churn pay a higher monthly charge?\n",
    "\n",
    "2) Does the amount of extras i.e. streaming, tech support, device protection, etc.. affect churn?\n",
    "\n",
    "3) Does Tenure affect churn?\n",
    "\n",
    "4) Does having a partner or dependents affect churn?"
   ]
  },
  {
   "cell_type": "markdown",
   "id": "f47bf930-baa6-40ef-ba56-bc1c68a71dd1",
   "metadata": {},
   "source": [
    "### Data Dictionary\n",
    "\n",
    "Variable | Meaning |\n",
    ":-: | :-- |\n",
    "Churn | Whether a customer continued subscription with the company\n",
    "service_count | Count of services subscribed: online security, online backup, device protection, tech support, streaming tv, streaming movies\n",
    "gender | Gender of customer\n",
    "senior_citizen | Whether a customer is concidered a senior citizen\n",
    "partner | Whether a customer has a partner or not\n",
    "dependents | Whether a customer has dependents or not\n",
    "tenure | How long a customer has been with the company\n",
    "phone_service | Whether a customer is subscribed to a phone service\n",
    "multiple_lines | Whether a customer is subscribed to multiple phon lines\n",
    "online_security | Whether a customer is subscribed to online security\n",
    "online_backup | Whether a customer is subscribed to online backup\n",
    "device_protection | Whether a customer is subscribed to device protection\n",
    "tech_support | Whether a customer is subscribed to tech support\n",
    "streaming_tv | Whether a customer is subscribed to streaming TV\n",
    "streaming_movies | Whether a customer is subscribed to streaming Movies\n",
    "paperless_billing | Whether a customer has paperless billing\n",
    "monthly_charges | What the customer pays monthly\n",
    "total_charges | The total a customer has paid over thier individual tenure\n",
    "contract_type | What type of contract the customer has: One year, Two years, or month to month\n",
    "payment_type | How the customer pays their bill: Bank transfer, Credit Card, Electronic Transfer, or Mail Check\n",
    "internet_service_type | What type of internet service a customer has: Fiber optic, DSL, None"
   ]
  },
  {
   "cell_type": "markdown",
   "id": "9dada87d-3d81-48cf-83f2-4c51b7993e5b",
   "metadata": {},
   "source": [
    "### Wrangle Telco Data"
   ]
  },
  {
   "cell_type": "markdown",
   "id": "ecd8ed88-fab0-42df-9b69-d000cfac4f7f",
   "metadata": {},
   "source": [
    "From the codeup mySQL server I pulled all columns from the telco_churn dataset using the following query:\n",
    "\n",
    "`SELECT *\n",
    "    \n",
    "    FROM customers\n",
    "    \n",
    "    JOIN contract_types\n",
    "    \n",
    "    USING(contract_type_id)\n",
    "    \n",
    "    JOIN payment_types\n",
    "    \n",
    "    USING(payment_type_id)\n",
    "    \n",
    "    JOIN internet_service_types\n",
    "    \n",
    "    USING(internet_service_type_id)`"
   ]
  },
  {
   "cell_type": "code",
   "execution_count": 124,
   "id": "b56727c3-4c90-4b3f-aec1-68eb89533103",
   "metadata": {},
   "outputs": [
    {
     "name": "stdout",
     "output_type": "stream",
     "text": [
      "Using cached csv file...\n"
     ]
    }
   ],
   "source": [
    "# Import the correct function from the acquire module\n",
    "from acquire import get_telco_data\n",
    "\n",
    "# Import warning to stop unneeded warning messages\n",
    "import warnings\n",
    "warnings.filterwarnings('ignore')\n",
    "\n",
    "# Retrieve the proper data from the database to create a dataframe needed for analysis\n",
    "telco = get_telco_data()"
   ]
  },
  {
   "cell_type": "markdown",
   "id": "3a2e17ff-2ea5-4d7a-b905-84110fab81e7",
   "metadata": {},
   "source": [
    "I cleaned the telco data in the following steps:\n",
    "\n",
    "1) Drop duplicate columns ('internet_service_type_id', 'payment_type_id', 'contract_type_id')    \n",
    "    \n",
    "2) Drop missing values in total_charges (11 in total) and convert total_charges to the correct data type of float\n",
    "    \n",
    "4) Convert the following categorical data that is binary in nature ('Yes' or 'No') to numeric binary characters and set to type int\n",
    "    \n",
    "    ('gender','partner','dependents','phone_service','paperless_billing','churn')\n",
    "    \n",
    "4) Create dummy variables for the following categorical variables:\n",
    "   \n",
    "   ('multiple_lines','online_security','online_backup','device_protection',\n",
    "   'tech_support','streaming_tv','streaming_movies','contract_type',\n",
    "   'payment_type','internet_service_type')\n",
    "    \n",
    "5) Combine dummy and original dataframes to include all variables\n",
    "    \n",
    "6) Rename columns that have space\n",
    "\n",
    "7) Create a variable that gives a count of extra services for each customer\n",
    "\n",
    "    ('online_security_Yes', 'online_backup_Yes',\n",
    "    'device_protection_Yes', 'tech_support_Yes', 'streaming_tv_Yes', 'streaming_movies_Yes')"
   ]
  },
  {
   "cell_type": "code",
   "execution_count": 125,
   "id": "9576a968-01a8-448d-a5a5-1953f76c9262",
   "metadata": {},
   "outputs": [],
   "source": [
    "# Import pandas for data manipulation and the prepare module\n",
    "import pandas as pd\n",
    "from prepare import clean_split_telco\n",
    "\n",
    "# Run the telco data and target variable into the clean_split function\n",
    "train, validate, test = clean_split_telco(telco, 'churn')"
   ]
  },
  {
   "cell_type": "markdown",
   "id": "da63edb7-6456-4e37-abb7-eb5f59b680a7",
   "metadata": {},
   "source": [
    "Our data is split into 3 samples:\n",
    "- The train sample represents 56 % of the data and is used to train the model\n",
    "- The validate sample represents 24 % of the data and is used to test for overfitting\n",
    "- The test sample reresents 20 % of the data and is used to test our top model\n",
    "- All splits were done with a seed of 123 and churn used as the stratify variable to ensure a balanced ratio in samples"
   ]
  },
  {
   "cell_type": "markdown",
   "id": "23ee701e-43ef-4db5-b250-b3ff6ef27d72",
   "metadata": {},
   "source": [
    "### Data Context\n",
    "\n",
    "- Total customers: 7043\n",
    "\n",
    "- Customers who churn: 1869 or 26.5 %\n",
    "\n",
    "- Mean Monthly Charges(dollars): Churn: 74.44 / No Churn: 61.27\n",
    "\n",
    "- Mean Tenure(Months): Churn 17.979 / No Churn 37.569 \n"
   ]
  },
  {
   "cell_type": "code",
   "execution_count": 126,
   "id": "ba4e80a3-30c4-4976-92b2-9127d6a6e4e1",
   "metadata": {},
   "outputs": [
    {
     "data": {
      "image/png": "[encoded data removed]",
      "text/plain": [
       "<Figure size 432x288 with 1 Axes>"
      ]
     },
     "metadata": {
      "needs_background": "light"
     },
     "output_type": "display_data"
    }
   ],
   "source": [
    "# Import seaborn and matplotlib for visualizations\n",
    "import seaborn as sns\n",
    "import matplotlib.pyplot as plt\n",
    "\n",
    "# Chart showing count of churn\n",
    "sns.countplot(data=telco,x='churn')\n",
    "plt.title('Count of Customers Seperated by Churn')\n",
    "plt.show()"
   ]
  },
  {
   "cell_type": "markdown",
   "id": "3550d952-1786-4e88-af6d-7ce3db45daf2",
   "metadata": {},
   "source": [
    "### Exploritory Analysis: Who churned?\n",
    "\n",
    "Questions Answered\n",
    "1. Do those who churn pay a higher monthly charge?\n",
    "2. Does the service count a customer has affect churn?\n",
    "3. Does Tenure affect churn?\n",
    "4. Does having a partner or dependents affect churn?"
   ]
  },
  {
   "cell_type": "markdown",
   "id": "9fbf1e91-521a-4cfd-90ca-7bd9895a2ef1",
   "metadata": {},
   "source": [
    "## Question 1\n",
    "\n",
    "Question: Do those who churn pay a higher monthly charge?\n",
    "\n",
    "### Plot"
   ]
  },
  {
   "cell_type": "code",
   "execution_count": 127,
   "id": "7d558267-ff06-4ed3-9705-e143a24b457a",
   "metadata": {},
   "outputs": [
    {
     "data": {
      "image/png": "[encoded data removed]",
      "text/plain": [
       "<Figure size 432x288 with 1 Axes>"
      ]
     },
     "metadata": {
      "needs_background": "light"
     },
     "output_type": "display_data"
    }
   ],
   "source": [
    "sns.boxplot('churn', 'monthly_charges', data = train)\n",
    "plt.title('Distribution of Monthly Charges Seperated by Churn')\n",
    "plt.show()"
   ]
  },
  {
   "cell_type": "markdown",
   "id": "76dc2da4-a36c-4ea1-93e3-e0401a4a9288",
   "metadata": {},
   "source": [
    "### Statistical Test \n",
    "\n",
    "$H_0$: Those who churn pay the same average monthly charges as the whole population. \n",
    "\n",
    "$H_α$ Those who churn pay a higher average monthly charge than the whole population.\n",
    "\n",
    "- A one sample T-test was performed, it returned a near zero p-value. \n",
    "\n",
    "- Null hypothesis was rejected. So we accept the alternative hypothesis."
   ]
  },
  {
   "cell_type": "markdown",
   "id": "c0da9dc5-d6b0-4f7a-b25c-37dab66e7725",
   "metadata": {},
   "source": [
    "The plot showing the distribution of monthly charges seperated by churn shows that those who do churn do show a higher monthly average."
   ]
  },
  {
   "cell_type": "markdown",
   "id": "1fad1b4a-da36-43d9-9159-ba7fbc38edac",
   "metadata": {},
   "source": [
    "## Question 2\n",
    "\n",
    "Question: Does the service count a customer has affect churn?\n",
    "\n",
    "### Plot"
   ]
  },
  {
   "cell_type": "code",
   "execution_count": 128,
   "id": "94e85948-0db4-4756-bda4-62561fdcb695",
   "metadata": {},
   "outputs": [
    {
     "data": {
      "image/png": "[encoded data removed]",
      "text/plain": [
       "<Figure size 432x288 with 1 Axes>"
      ]
     },
     "metadata": {
      "needs_background": "light"
     },
     "output_type": "display_data"
    }
   ],
   "source": [
    "sns.countplot('service_count' , data = train, hue = 'churn')\n",
    "plt.title('Count of Subscribed Services Seperated by Churn')\n",
    "plt.show()"
   ]
  },
  {
   "cell_type": "markdown",
   "id": "9c7c4166-7c7e-417e-b54f-0cee8e0c091c",
   "metadata": {},
   "source": [
    "### Statistical Test\n",
    "\n",
    "$H_0$: Those who churn had the same amount or less subscriptions then those that did not.\n",
    "\n",
    "$H_α$: Those who churn had more subscriptions than those that did not. \n",
    "\n",
    "- A Mann-Whitney U test was performed, it returned a p value of 0.6646.\n",
    "\n",
    "- We accept the null hypothesis."
   ]
  },
  {
   "cell_type": "markdown",
   "id": "d6b14a9e-1f2d-48a2-b91f-773b1d98abae",
   "metadata": {},
   "source": [
    "The count plot shows that those who churn tend to have a lower subscriptions count than those who do not. With the highest churn rate being at 1 subscriptions."
   ]
  },
  {
   "cell_type": "markdown",
   "id": "81678a23-3302-446c-b1cd-193359842035",
   "metadata": {},
   "source": [
    "## Question 3\n",
    "\n",
    "Question: Does Tenure affect churn?\n",
    "\n",
    "\n",
    "### Plot"
   ]
  },
  {
   "cell_type": "code",
   "execution_count": 129,
   "id": "f544aaa2-34e4-43f9-a362-e6de88c024ea",
   "metadata": {},
   "outputs": [
    {
     "data": {
      "image/png": "[encoded data removed]",
      "text/plain": [
       "<Figure size 432x288 with 1 Axes>"
      ]
     },
     "metadata": {
      "needs_background": "light"
     },
     "output_type": "display_data"
    }
   ],
   "source": [
    "sns.boxplot('churn', 'tenure', data = train)\n",
    "plt.title('Distribution of Tenure Seperated by Churn')\n",
    "plt.show()"
   ]
  },
  {
   "cell_type": "markdown",
   "id": "849ad5b0-7860-479e-b1d9-9b94b105cd64",
   "metadata": {},
   "source": [
    "The above distribution shows a significantly lower average tenure for those who churn."
   ]
  },
  {
   "cell_type": "markdown",
   "id": "ed4060af-ddfe-4169-aaed-924d4a144385",
   "metadata": {},
   "source": [
    "## Question 4\n",
    "\n",
    "Question: Does having a partner or dependents affect churn?"
   ]
  },
  {
   "cell_type": "code",
   "execution_count": 130,
   "id": "5f3a5f10-1e98-4311-93a7-2052beece72b",
   "metadata": {},
   "outputs": [
    {
     "data": {
      "image/png": "[encoded data removed]",
      "text/plain": [
       "<Figure size 762.375x360 with 2 Axes>"
      ]
     },
     "metadata": {
      "needs_background": "light"
     },
     "output_type": "display_data"
    }
   ],
   "source": [
    "sns.catplot(x='partner', col = 'dependents', hue='churn', kind = 'count', data=train)\n",
    "plt.show()"
   ]
  },
  {
   "cell_type": "markdown",
   "id": "dc520965-f1aa-4a43-9b73-f47545b3848d",
   "metadata": {},
   "source": [
    "### Statistical Test\n",
    "\n",
    "$H_0$: Churn is independent of having a partner or dependents.\n",
    "\n",
    "$H_α$: There is a relationship between churn and having a partner or dependents. \n",
    "\n",
    "- Two seperate chi squared contingency tests were ran comparing partner and dependent seperatey to the overall population churn.\n",
    "\n",
    "- Both returned low enough p values to reject the null hypothesis. "
   ]
  },
  {
   "cell_type": "markdown",
   "id": "6bdc340b-8146-4fd3-bfcc-832c6337ef19",
   "metadata": {},
   "source": [
    "According to the Chi Squared test there is a relationship between churn and having a partner or dependents. According to the plot above those with partners and dependents seem to churn at a low rate."
   ]
  },
  {
   "cell_type": "markdown",
   "id": "27cb49ea-e35b-44c4-b8e5-e091f3aecf2a",
   "metadata": {},
   "source": [
    "### Summary: Who did Churn?"
   ]
  },
  {
   "cell_type": "markdown",
   "id": "9df5704b-effc-4a9f-a928-e169809916f3",
   "metadata": {},
   "source": [
    "Post exploration tenure seemed have the most potential for indicating churn. Over 75 % of those who churn had a lower tenure than the mean of those who did not. While those that churn showed a higher average monthly charge they also had a lower subscription count. This could warrent further investigation. Lastely having a partner or dependents seemed to be an indicator of no churn. "
   ]
  },
  {
   "cell_type": "markdown",
   "id": "8a46cfca-ab14-40ae-82c0-e90b439310b1",
   "metadata": {},
   "source": [
    "# Model"
   ]
  },
  {
   "cell_type": "code",
   "execution_count": 131,
   "id": "cabf7ef0-cbdc-44cd-8d3d-ed9019b407c3",
   "metadata": {},
   "outputs": [],
   "source": [
    "# Import function to split data for modeling as well as sklearn for model reporting\n",
    "from prepare import model_split_telco\n",
    "from sklearn.metrics import classification_report\n",
    "from sklearn import metrics"
   ]
  },
  {
   "cell_type": "markdown",
   "id": "e94a5de0-f574-4f63-851e-dcb7c8446700",
   "metadata": {},
   "source": [
    "### Evaluation Metric"
   ]
  },
  {
   "cell_type": "markdown",
   "id": "60bfe1fc-fc38-4cb0-a411-4785b9061120",
   "metadata": {},
   "source": [
    "When evaluating the models I beleive its important to understand when our model predicts both churn and no churn (model accuracy). This is important when ensuring we are reaching out to the correct individauls when offering discounts or promotions."
   ]
  },
  {
   "cell_type": "markdown",
   "id": "e9f40e74-f709-451b-a478-3355b97085be",
   "metadata": {},
   "source": [
    "### Basline"
   ]
  },
  {
   "cell_type": "code",
   "execution_count": 132,
   "id": "971c4c46-07ed-4346-8e72-fae8b1675277",
   "metadata": {},
   "outputs": [
    {
     "data": {
      "text/plain": [
       "0    2891\n",
       "1    1046\n",
       "Name: churn, dtype: int64"
      ]
     },
     "execution_count": 132,
     "metadata": {},
     "output_type": "execute_result"
    }
   ],
   "source": [
    "# Shows the counts of churn: 0 meaning no churn and 1 meaning churn\n",
    "# No churn is our baseline because of it's higher frequency in the data.\n",
    "train.churn.value_counts()"
   ]
  },
  {
   "cell_type": "code",
   "execution_count": 133,
   "id": "f0e3677f-ee2d-45e3-9594-af90e1b82184",
   "metadata": {},
   "outputs": [
    {
     "name": "stdout",
     "output_type": "stream",
     "text": [
      "              precision    recall  f1-score   support\n",
      "\n",
      "           0       0.73      1.00      0.85      2891\n",
      "           1       0.00      0.00      0.00      1046\n",
      "\n",
      "    accuracy                           0.73      3937\n",
      "   macro avg       0.37      0.50      0.42      3937\n",
      "weighted avg       0.54      0.73      0.62      3937\n",
      "\n"
     ]
    }
   ],
   "source": [
    "# Setting a baseline of No Churn or 0\n",
    "\n",
    "# We use the DummyClassifier from sklearn to create a baseline accuracy.\n",
    "from sklearn.dummy import DummyClassifier \n",
    "\n",
    "# model_split_telco splits our data into x: Features used for prediction and y: the target variable we are attempting to predict\n",
    "x_train_dum, y_train_dum = model_split_telco(train)\n",
    "\n",
    "# Here we create and fit the model\n",
    "dummy = DummyClassifier(strategy='most_frequent', random_state = 123, constant = None)\n",
    "dummy.fit(x_train_dum, y_train_dum)   \n",
    "\n",
    "# Here we create our predictions\n",
    "y_pred_dum = dummy.predict(x_train_dum)\n",
    "\n",
    "# Check report for current baseline accuracy: 0.73\n",
    "print(classification_report(y_train_dum, y_pred_dum))"
   ]
  },
  {
   "cell_type": "markdown",
   "id": "80105a4a-2c43-4708-83d6-4a7772e70e3e",
   "metadata": {},
   "source": [
    "### Train\n",
    "\n",
    "The top models I tested were KNN, Logistic Regression and a Decision Tree. KNN neighbors showed the most promise with an accuracy of 0.83. Both the Logistic Regression and Decision Tree models showed 0.8 in test."
   ]
  },
  {
   "cell_type": "code",
   "execution_count": 134,
   "id": "ca42809c-109c-402d-88f8-b1fbe8a83749",
   "metadata": {},
   "outputs": [
    {
     "name": "stdout",
     "output_type": "stream",
     "text": [
      "              precision    recall  f1-score   support\n",
      "\n",
      "           0       0.86      0.92      0.89      2891\n",
      "           1       0.73      0.59      0.65      1046\n",
      "\n",
      "    accuracy                           0.83      3937\n",
      "   macro avg       0.80      0.76      0.77      3937\n",
      "weighted avg       0.83      0.83      0.83      3937\n",
      "\n"
     ]
    }
   ],
   "source": [
    "# Import the sklearn knn classifier\n",
    "from sklearn.neighbors import KNeighborsClassifier\n",
    "\n",
    "# split the data\n",
    "x_train_knn, y_train_knn, = model_split_telco(train)\n",
    "\n",
    "# Create the model\n",
    "knn = KNeighborsClassifier()\n",
    "\n",
    "# Fit the model to training set\n",
    "knn.fit(x_train_knn, y_train_knn)\n",
    "\n",
    "# Predict on training set\n",
    "y_pred_knn = knn.predict(x_train_knn)\n",
    "\n",
    "# Print the report\n",
    "print(classification_report(y_train_knn, y_pred_knn))"
   ]
  },
  {
   "cell_type": "code",
   "execution_count": 135,
   "id": "d5d30b0d-b783-4970-8b9c-79056a3f2802",
   "metadata": {},
   "outputs": [
    {
     "name": "stdout",
     "output_type": "stream",
     "text": [
      "              precision    recall  f1-score   support\n",
      "\n",
      "           0       0.84      0.90      0.87      2891\n",
      "           1       0.65      0.54      0.59      1046\n",
      "\n",
      "    accuracy                           0.80      3937\n",
      "   macro avg       0.75      0.72      0.73      3937\n",
      "weighted avg       0.79      0.80      0.79      3937\n",
      "\n"
     ]
    }
   ],
   "source": [
    "# Import sklearn logistic Regression classifier\n",
    "from sklearn.linear_model import LogisticRegression\n",
    "\n",
    "# Split the data\n",
    "x_train_lr, y_train_lr = model_split_telco(train)\n",
    "\n",
    "# Create the model\n",
    "logit = LogisticRegression(C=10, random_state=123)\n",
    "\n",
    "# Fit the model to training set\n",
    "logit.fit(x_train_lr, y_train_lr)\n",
    "\n",
    "# Predict on training set\n",
    "y_pred_lr = logit.predict(x_train_lr)\n",
    "\n",
    "# Print the report\n",
    "print(classification_report(y_train_lr, y_pred_lr))"
   ]
  },
  {
   "cell_type": "code",
   "execution_count": 136,
   "id": "fe8e79b9-e16b-4529-b1b8-848579a5c58a",
   "metadata": {},
   "outputs": [
    {
     "name": "stdout",
     "output_type": "stream",
     "text": [
      "              precision    recall  f1-score   support\n",
      "\n",
      "           0       0.81      0.94      0.87      2891\n",
      "           1       0.71      0.40      0.51      1046\n",
      "\n",
      "    accuracy                           0.80      3937\n",
      "   macro avg       0.76      0.67      0.69      3937\n",
      "weighted avg       0.79      0.80      0.78      3937\n",
      "\n"
     ]
    }
   ],
   "source": [
    "# Import the sklearn Decision Tree Classifier\n",
    "from sklearn.tree import DecisionTreeClassifier\n",
    "\n",
    "# Split the data\n",
    "x_train_dt, y_train_dt = model_split_telco(train)\n",
    "\n",
    "# Create the model\n",
    "clf = DecisionTreeClassifier(max_depth=3, random_state=123)\n",
    "\n",
    "# Fit the model to training set\n",
    "clf = clf.fit(x_train_dt, y_train_dt)\n",
    "\n",
    "# Predict on trianing set\n",
    "y_pred_dt = clf.predict(x_train_dt)\n",
    "\n",
    "# Print the report\n",
    "print(classification_report(y_train_dt, y_pred_dt))"
   ]
  },
  {
   "cell_type": "markdown",
   "id": "54ff2f11-3af5-4ff8-b8df-ce3ff1e608aa",
   "metadata": {},
   "source": [
    "### Validate\n",
    "\n",
    "Both the KNN and Decision Tree models produced an accuracy above baseline but were both lower than the training data. The logistic regression model had the highest accuracy with a consistent 0.80 so it will be used in testing."
   ]
  },
  {
   "cell_type": "code",
   "execution_count": 137,
   "id": "ad5831a7-6f78-4f15-959c-4e23e44bc27a",
   "metadata": {},
   "outputs": [
    {
     "name": "stdout",
     "output_type": "stream",
     "text": [
      "              precision    recall  f1-score   support\n",
      "\n",
      "           0       0.82      0.87      0.84      1239\n",
      "           1       0.56      0.46      0.51       449\n",
      "\n",
      "    accuracy                           0.76      1688\n",
      "   macro avg       0.69      0.67      0.68      1688\n",
      "weighted avg       0.75      0.76      0.75      1688\n",
      "\n"
     ]
    }
   ],
   "source": [
    "# Split validate data\n",
    "x_validate_knn, y_validate_knn = model_split_telco(validate)\n",
    "\n",
    "# Predict on validate data\n",
    "y_pred_val_knn = knn.predict(x_validate_knn)\n",
    "\n",
    "# Print report\n",
    "print(classification_report(y_validate_knn, y_pred_val_knn))"
   ]
  },
  {
   "cell_type": "code",
   "execution_count": 138,
   "id": "2e161cad-c25e-4246-863d-737e44d6807d",
   "metadata": {},
   "outputs": [
    {
     "name": "stdout",
     "output_type": "stream",
     "text": [
      "              precision    recall  f1-score   support\n",
      "\n",
      "           0       0.84      0.89      0.87      1239\n",
      "           1       0.64      0.55      0.59       449\n",
      "\n",
      "    accuracy                           0.80      1688\n",
      "   macro avg       0.74      0.72      0.73      1688\n",
      "weighted avg       0.79      0.80      0.79      1688\n",
      "\n"
     ]
    }
   ],
   "source": [
    "# Split on validate data\n",
    "x_validate_lr, y_validate_lr = model_split_telco(validate)\n",
    "\n",
    "# Predict on validate data\n",
    "y_pred_val_lr = logit.predict(x_validate_lr)\n",
    "\n",
    "# Print report\n",
    "print(classification_report(y_validate_lr, y_pred_val_lr))"
   ]
  },
  {
   "cell_type": "code",
   "execution_count": 139,
   "id": "55896a11-c42b-4e72-a662-7d84bb9b5975",
   "metadata": {},
   "outputs": [
    {
     "name": "stdout",
     "output_type": "stream",
     "text": [
      "              precision    recall  f1-score   support\n",
      "\n",
      "           0       0.80      0.91      0.86      1239\n",
      "           1       0.62      0.39      0.48       449\n",
      "\n",
      "    accuracy                           0.77      1688\n",
      "   macro avg       0.71      0.65      0.67      1688\n",
      "weighted avg       0.75      0.77      0.75      1688\n",
      "\n"
     ]
    }
   ],
   "source": [
    "# Split on validate data\n",
    "x_validate_dt, y_validate_dt = model_split_telco(validate)\n",
    "\n",
    "# Predict on validate data\n",
    "y_pred_val_dt = clf.predict(x_validate_dt)\n",
    "\n",
    "# Print report\n",
    "print(classification_report(y_validate_dt, y_pred_val_dt))"
   ]
  },
  {
   "cell_type": "markdown",
   "id": "23ede563-7081-433d-bf70-54fbb5ebdb0b",
   "metadata": {},
   "source": [
    "### Test\n",
    "\n",
    "The Logistic Regression Model performed consistantly above 80% which is 7% above baseline. "
   ]
  },
  {
   "cell_type": "code",
   "execution_count": 140,
   "id": "ff7de1c3-3e9f-4cbf-a36d-d5e7b6ae741d",
   "metadata": {},
   "outputs": [
    {
     "name": "stdout",
     "output_type": "stream",
     "text": [
      "              precision    recall  f1-score   support\n",
      "\n",
      "           0       0.86      0.89      0.87      1033\n",
      "           1       0.66      0.59      0.62       374\n",
      "\n",
      "    accuracy                           0.81      1407\n",
      "   macro avg       0.76      0.74      0.75      1407\n",
      "weighted avg       0.81      0.81      0.81      1407\n",
      "\n"
     ]
    }
   ],
   "source": [
    "# Split test data\n",
    "x_test_lr, y_test_lr = model_split_telco(test)\n",
    "\n",
    "# Predict on test data\n",
    "y_pred_test_lr = logit.predict(x_test_lr)\n",
    "\n",
    "# Predict probability  on test data\n",
    "y_proba_test_lr = logit.predict_proba(x_test_lr)\n",
    "\n",
    "# Print report\n",
    "print(classification_report(y_test_lr, y_pred_test_lr))"
   ]
  },
  {
   "cell_type": "code",
   "execution_count": 141,
   "id": "747796ef-b792-446a-93f0-bd7f4c6134a9",
   "metadata": {},
   "outputs": [
    {
     "name": "stdout",
     "output_type": "stream",
     "text": [
      "['payment_type_Electronic_check', 'senior_citizen', 'paperless_billing', 'contract_type_Month-to-month', 'internet_service_type_Fiber_optic']\n"
     ]
    }
   ],
   "source": [
    "# Import numpy\n",
    "import numpy as np\n",
    "\n",
    "# Check for top five features\n",
    "coefs = logit.coef_[0]\n",
    "top_five = np.argpartition(coefs, -5)[-5:]\n",
    "print(list(x_test_lr.columns[top_five]))"
   ]
  },
  {
   "cell_type": "markdown",
   "id": "2aca82a0-dc38-4cfe-aebf-ebb127e7c22d",
   "metadata": {},
   "source": [
    "# Conclusion"
   ]
  },
  {
   "cell_type": "markdown",
   "id": "c08b5a82-0faf-49f2-9eda-9cc20f80d07c",
   "metadata": {},
   "source": [
    "## Summary"
   ]
  },
  {
   "cell_type": "markdown",
   "id": "54875b57-ebd6-47ce-9dc3-db871072d7e3",
   "metadata": {},
   "source": [
    "Through exploration tenure seemed to have the most potential for being a driver or churn. \n",
    "\n",
    "While those who churned tended to pay higher monthly averages they also tended not to be subscribed to as many additional services as those who did not churn.\n",
    "\n",
    "Those who had partners and dependents had a much lower churn rate then those who did not.\n",
    "\n",
    "The test data for the logistic model showed different features as the top drivers of the model. This warrents further exploration."
   ]
  },
  {
   "cell_type": "markdown",
   "id": "996970a7-9403-4cfe-9013-d4ee03ee2560",
   "metadata": {},
   "source": [
    "## Recommendations"
   ]
  },
  {
   "cell_type": "markdown",
   "id": "eb3082ce-5277-42d5-9026-33c1947d828b",
   "metadata": {},
   "source": [
    "Since those who churn seem to have low tenure, Telco may consider offering a discount to those who are just starting out with the company."
   ]
  },
  {
   "cell_type": "markdown",
   "id": "272232ba-f8e4-447c-8e77-782e5bc968f8",
   "metadata": {},
   "source": [
    "## Next Steps"
   ]
  },
  {
   "cell_type": "markdown",
   "id": "05464688-fe6d-48c8-8fbf-1809e0aaa8ce",
   "metadata": {},
   "source": [
    "Given additional time, further analysis in both modeling and exploring statistical relationships between current features could prove beneficial in maximizing predictions as well as help understand areas of consideration for potential discounts and thier impacts on churn."
   ]
  },
  {
   "cell_type": "markdown",
   "id": "1c9ebd48-5eba-4876-9d3b-a3eea745ba90",
   "metadata": {},
   "source": [
    "## Exporting CSV Predictions"
   ]
  },
  {
   "cell_type": "code",
   "execution_count": 150,
   "id": "c12e1618-2683-4444-b862-3a87daef6a2f",
   "metadata": {},
   "outputs": [],
   "source": [
    "# Create dataframe\n",
    "pred = pd.DataFrame(columns=['Customer_id', 'Probability_of_churn', 'Prediction_of_churn'])\n",
    "\n",
    "# Assign id\n",
    "pred['Customer_id'] = test.customer_id\n",
    "\n",
    "# Assign probability\n",
    "pred['Probability_of_churn'] = y_proba_test_lr\n",
    "\n",
    "# Assign prediction\n",
    "pred['Prediction_of_churn'] = y_pred_test_lr\n",
    "\n",
    "# Reset index\n",
    "pred = pred.reset_index(drop=True)\n",
    "\n",
    "# output to csv\n",
    "pred.to_csv('predictions.csv',index=False)"
   ]
  },
  {
   "cell_type": "code",
   "execution_count": 151,
   "id": "bb75eeee-1cce-484a-b919-0e4bcdf94d82",
   "metadata": {},
   "outputs": [
    {
     "data": {
      "text/html": [
       "<div>\n",
       "<style scoped>\n",
       "    .dataframe tbody tr th:only-of-type {\n",
       "        vertical-align: middle;\n",
       "    }\n",
       "\n",
       "    .dataframe tbody tr th {\n",
       "        vertical-align: top;\n",
       "    }\n",
       "\n",
       "    .dataframe thead th {\n",
       "        text-align: right;\n",
       "    }\n",
       "</style>\n",
       "<table border=\"1\" class=\"dataframe\">\n",
       "  <thead>\n",
       "    <tr style=\"text-align: right;\">\n",
       "      <th></th>\n",
       "      <th>Customer_id</th>\n",
       "      <th>Probability_of_churn</th>\n",
       "      <th>Prediction_of_churn</th>\n",
       "    </tr>\n",
       "  </thead>\n",
       "  <tbody>\n",
       "    <tr>\n",
       "      <th>0</th>\n",
       "      <td>4716-MRVEN</td>\n",
       "      <td>0.971433</td>\n",
       "      <td>0</td>\n",
       "    </tr>\n",
       "    <tr>\n",
       "      <th>1</th>\n",
       "      <td>8966-KZXXA</td>\n",
       "      <td>0.974069</td>\n",
       "      <td>0</td>\n",
       "    </tr>\n",
       "    <tr>\n",
       "      <th>2</th>\n",
       "      <td>8720-RQSBJ</td>\n",
       "      <td>0.472818</td>\n",
       "      <td>1</td>\n",
       "    </tr>\n",
       "    <tr>\n",
       "      <th>3</th>\n",
       "      <td>7504-UWHNB</td>\n",
       "      <td>0.571716</td>\n",
       "      <td>0</td>\n",
       "    </tr>\n",
       "    <tr>\n",
       "      <th>4</th>\n",
       "      <td>1730-VFMWO</td>\n",
       "      <td>0.915904</td>\n",
       "      <td>0</td>\n",
       "    </tr>\n",
       "  </tbody>\n",
       "</table>\n",
       "</div>"
      ],
      "text/plain": [
       "  Customer_id  Probability_of_churn  Prediction_of_churn\n",
       "0  4716-MRVEN              0.971433                    0\n",
       "1  8966-KZXXA              0.974069                    0\n",
       "2  8720-RQSBJ              0.472818                    1\n",
       "3  7504-UWHNB              0.571716                    0\n",
       "4  1730-VFMWO              0.915904                    0"
      ]
     },
     "execution_count": 151,
     "metadata": {},
     "output_type": "execute_result"
    }
   ],
   "source": [
    "prediction = pd.read_csv('predictions.csv')\n",
    "prediction.head()"
   ]
  }
 ],
 "metadata": {
  "kernelspec": {
   "display_name": "Python 3 (ipykernel)",
   "language": "python",
   "name": "python3"
  },
  "language_info": {
   "codemirror_mode": {
    "name": "ipython",
    "version": 3
   },
   "file_extension": ".py",
   "mimetype": "text/x-python",
   "name": "python",
   "nbconvert_exporter": "python",
   "pygments_lexer": "ipython3",
   "version": "3.9.7"
  }
 },
 "nbformat": 4,
 "nbformat_minor": 5
}
